{
  "metadata": {
    "kernelspec": {
      "display_name": "Python 3",
      "name": "python3"
    },
    "language_info": {
      "name": "python",
      "version": "3.10.10",
      "mimetype": "text/x-python",
      "codemirror_mode": {
        "name": "ipython",
        "version": 3
      },
      "pygments_lexer": "ipython3",
      "nbconvert_exporter": "python",
      "file_extension": ".py"
    },
    "colab": {
      "provenance": [],
      "gpuType": "T4"
    }
  },
  "nbformat_minor": 0,
  "nbformat": 4,
  "cells": [
    {
      "cell_type": "code",
      "source": [
        "from google.colab import drive\n",
        "drive.mount('/content/drive')"
      ],
      "metadata": {
        "colab": {
          "base_uri": "https://localhost:8080/"
        },
        "id": "vuT5Uz6NuVTi",
        "outputId": "0e52d968-4e3f-4f7b-a49c-9a4b92e95dee"
      },
      "execution_count": 2,
      "outputs": [
        {
          "output_type": "stream",
          "name": "stdout",
          "text": [
            "Mounted at /content/drive\n"
          ]
        }
      ]
    },
    {
      "cell_type": "code",
      "source": [
        "# This Python 3 environment comes with many helpful analytics libraries installed\n",
        "# It is defined by the kaggle/python Docker image: https://github.com/kaggle/docker-python\n",
        "# For example, here's several helpful packages to load\n",
        "\n",
        "import numpy as np # linear algebra\n",
        "import pandas as pd # data processing, CSV file I/O (e.g. pd.read_csv)\n",
        "import torch\n",
        "from sklearn.preprocessing import MinMaxScaler\n",
        "from sklearn.model_selection import train_test_split\n",
        "import torch.nn as nn\n",
        "# Input data files are available in the read-only \"../input/\" directory\n",
        "# For example, running this (by clicking run or pressing Shift+Enter) will list all files under the input directory\n",
        "from tqdm import tqdm\n",
        "import matplotlib.pyplot as plt\n",
        "import joblib\n",
        "import os\n",
        "for dirname, _, filenames in os.walk('/kaggle/input'):\n",
        "    for filename in filenames:\n",
        "        print(os.path.join(dirname, filename))\n",
        "\n",
        "# You can write up to 20GB to the current directory (/kaggle/working/) that gets preserved as output when you create a version using \"Save & Run All\"\n",
        "# You can also write temporary files to /kaggle/temp/, but they won't be saved outside of the current session"
      ],
      "metadata": {
        "_uuid": "8f2839f25d086af736a60e9eeb907d3b93b6e0e5",
        "_cell_guid": "b1076dfc-b9ad-4769-8c92-a6c4dae69d19",
        "execution": {
          "iopub.status.busy": "2023-07-07T13:34:45.460325Z",
          "iopub.execute_input": "2023-07-07T13:34:45.461280Z",
          "iopub.status.idle": "2023-07-07T13:34:45.467520Z",
          "shell.execute_reply.started": "2023-07-07T13:34:45.461246Z",
          "shell.execute_reply": "2023-07-07T13:34:45.466392Z"
        },
        "trusted": true,
        "id": "4Dbtsr39nMgI"
      },
      "execution_count": 3,
      "outputs": []
    },
    {
      "cell_type": "code",
      "source": [
        "device = torch.device(\"cuda:0\" if torch.cuda.is_available() else \"cpu\")\n"
      ],
      "metadata": {
        "execution": {
          "iopub.status.busy": "2023-07-07T13:34:45.472122Z",
          "iopub.execute_input": "2023-07-07T13:34:45.472990Z",
          "iopub.status.idle": "2023-07-07T13:34:45.481337Z",
          "shell.execute_reply.started": "2023-07-07T13:34:45.472945Z",
          "shell.execute_reply": "2023-07-07T13:34:45.479709Z"
        },
        "trusted": true,
        "id": "1EqibNutnMgQ"
      },
      "execution_count": 4,
      "outputs": []
    },
    {
      "cell_type": "code",
      "source": [
        "device"
      ],
      "metadata": {
        "execution": {
          "iopub.status.busy": "2023-07-07T13:34:45.483788Z",
          "iopub.execute_input": "2023-07-07T13:34:45.484720Z",
          "iopub.status.idle": "2023-07-07T13:34:45.497178Z",
          "shell.execute_reply.started": "2023-07-07T13:34:45.484683Z",
          "shell.execute_reply": "2023-07-07T13:34:45.496156Z"
        },
        "trusted": true,
        "colab": {
          "base_uri": "https://localhost:8080/"
        },
        "id": "9J_6kFOynMgS",
        "outputId": "5e5b9aa5-7bad-4dee-aa40-7afb435749b4"
      },
      "execution_count": 5,
      "outputs": [
        {
          "output_type": "execute_result",
          "data": {
            "text/plain": [
              "device(type='cpu')"
            ]
          },
          "metadata": {},
          "execution_count": 5
        }
      ]
    },
    {
      "cell_type": "code",
      "source": [
        "data = pd.read_csv('/content/drive/MyDrive/FISA A2/STOCK_INDEX.csv')"
      ],
      "metadata": {
        "execution": {
          "iopub.status.busy": "2023-07-07T13:34:45.498580Z",
          "iopub.execute_input": "2023-07-07T13:34:45.499448Z",
          "iopub.status.idle": "2023-07-07T13:34:45.513940Z",
          "shell.execute_reply.started": "2023-07-07T13:34:45.499414Z",
          "shell.execute_reply": "2023-07-07T13:34:45.512794Z"
        },
        "trusted": true,
        "id": "7V3yNlZsnMgb"
      },
      "execution_count": 6,
      "outputs": []
    },
    {
      "cell_type": "code",
      "source": [
        "data.head()"
      ],
      "metadata": {
        "execution": {
          "iopub.status.busy": "2023-07-07T13:34:45.515881Z",
          "iopub.execute_input": "2023-07-07T13:34:45.516775Z",
          "iopub.status.idle": "2023-07-07T13:34:45.533974Z",
          "shell.execute_reply.started": "2023-07-07T13:34:45.516740Z",
          "shell.execute_reply": "2023-07-07T13:34:45.532643Z"
        },
        "trusted": true,
        "colab": {
          "base_uri": "https://localhost:8080/",
          "height": 206
        },
        "id": "CIjwiWGInMgc",
        "outputId": "eef81f8c-2a54-4368-da10-50e6f443511f"
      },
      "execution_count": 7,
      "outputs": [
        {
          "output_type": "execute_result",
          "data": {
            "text/plain": [
              "         Date         Open         High          Low        Close  \\\n",
              "0  2010-01-04  5200.899902  5238.450195  5167.100098  5232.200195   \n",
              "1  2010-01-05  5277.149902  5288.350098  5242.399902  5277.899902   \n",
              "2  2010-01-06  5278.149902  5310.850098  5260.049805  5281.799805   \n",
              "3  2010-01-07  5281.799805  5302.549805  5244.750000  5263.100098   \n",
              "4  2010-01-08  5264.250000  5276.750000  5234.700195  5244.750000   \n",
              "\n",
              "     Adj Close  Volume  \n",
              "0  5232.200195     0.0  \n",
              "1  5277.899902     0.0  \n",
              "2  5281.799805     0.0  \n",
              "3  5263.100098     0.0  \n",
              "4  5244.750000     0.0  "
            ],
            "text/html": [
              "\n",
              "\n",
              "  <div id=\"df-9ddf3348-371e-41bb-a712-e7a7d5f6369b\">\n",
              "    <div class=\"colab-df-container\">\n",
              "      <div>\n",
              "<style scoped>\n",
              "    .dataframe tbody tr th:only-of-type {\n",
              "        vertical-align: middle;\n",
              "    }\n",
              "\n",
              "    .dataframe tbody tr th {\n",
              "        vertical-align: top;\n",
              "    }\n",
              "\n",
              "    .dataframe thead th {\n",
              "        text-align: right;\n",
              "    }\n",
              "</style>\n",
              "<table border=\"1\" class=\"dataframe\">\n",
              "  <thead>\n",
              "    <tr style=\"text-align: right;\">\n",
              "      <th></th>\n",
              "      <th>Date</th>\n",
              "      <th>Open</th>\n",
              "      <th>High</th>\n",
              "      <th>Low</th>\n",
              "      <th>Close</th>\n",
              "      <th>Adj Close</th>\n",
              "      <th>Volume</th>\n",
              "    </tr>\n",
              "  </thead>\n",
              "  <tbody>\n",
              "    <tr>\n",
              "      <th>0</th>\n",
              "      <td>2010-01-04</td>\n",
              "      <td>5200.899902</td>\n",
              "      <td>5238.450195</td>\n",
              "      <td>5167.100098</td>\n",
              "      <td>5232.200195</td>\n",
              "      <td>5232.200195</td>\n",
              "      <td>0.0</td>\n",
              "    </tr>\n",
              "    <tr>\n",
              "      <th>1</th>\n",
              "      <td>2010-01-05</td>\n",
              "      <td>5277.149902</td>\n",
              "      <td>5288.350098</td>\n",
              "      <td>5242.399902</td>\n",
              "      <td>5277.899902</td>\n",
              "      <td>5277.899902</td>\n",
              "      <td>0.0</td>\n",
              "    </tr>\n",
              "    <tr>\n",
              "      <th>2</th>\n",
              "      <td>2010-01-06</td>\n",
              "      <td>5278.149902</td>\n",
              "      <td>5310.850098</td>\n",
              "      <td>5260.049805</td>\n",
              "      <td>5281.799805</td>\n",
              "      <td>5281.799805</td>\n",
              "      <td>0.0</td>\n",
              "    </tr>\n",
              "    <tr>\n",
              "      <th>3</th>\n",
              "      <td>2010-01-07</td>\n",
              "      <td>5281.799805</td>\n",
              "      <td>5302.549805</td>\n",
              "      <td>5244.750000</td>\n",
              "      <td>5263.100098</td>\n",
              "      <td>5263.100098</td>\n",
              "      <td>0.0</td>\n",
              "    </tr>\n",
              "    <tr>\n",
              "      <th>4</th>\n",
              "      <td>2010-01-08</td>\n",
              "      <td>5264.250000</td>\n",
              "      <td>5276.750000</td>\n",
              "      <td>5234.700195</td>\n",
              "      <td>5244.750000</td>\n",
              "      <td>5244.750000</td>\n",
              "      <td>0.0</td>\n",
              "    </tr>\n",
              "  </tbody>\n",
              "</table>\n",
              "</div>\n",
              "      <button class=\"colab-df-convert\" onclick=\"convertToInteractive('df-9ddf3348-371e-41bb-a712-e7a7d5f6369b')\"\n",
              "              title=\"Convert this dataframe to an interactive table.\"\n",
              "              style=\"display:none;\">\n",
              "\n",
              "  <svg xmlns=\"http://www.w3.org/2000/svg\" height=\"24px\"viewBox=\"0 0 24 24\"\n",
              "       width=\"24px\">\n",
              "    <path d=\"M0 0h24v24H0V0z\" fill=\"none\"/>\n",
              "    <path d=\"M18.56 5.44l.94 2.06.94-2.06 2.06-.94-2.06-.94-.94-2.06-.94 2.06-2.06.94zm-11 1L8.5 8.5l.94-2.06 2.06-.94-2.06-.94L8.5 2.5l-.94 2.06-2.06.94zm10 10l.94 2.06.94-2.06 2.06-.94-2.06-.94-.94-2.06-.94 2.06-2.06.94z\"/><path d=\"M17.41 7.96l-1.37-1.37c-.4-.4-.92-.59-1.43-.59-.52 0-1.04.2-1.43.59L10.3 9.45l-7.72 7.72c-.78.78-.78 2.05 0 2.83L4 21.41c.39.39.9.59 1.41.59.51 0 1.02-.2 1.41-.59l7.78-7.78 2.81-2.81c.8-.78.8-2.07 0-2.86zM5.41 20L4 18.59l7.72-7.72 1.47 1.35L5.41 20z\"/>\n",
              "  </svg>\n",
              "      </button>\n",
              "\n",
              "\n",
              "\n",
              "    <div id=\"df-c4128ce1-0efe-4c95-b4f1-f0e3ea16b193\">\n",
              "      <button class=\"colab-df-quickchart\" onclick=\"quickchart('df-c4128ce1-0efe-4c95-b4f1-f0e3ea16b193')\"\n",
              "              title=\"Suggest charts.\"\n",
              "              style=\"display:none;\">\n",
              "\n",
              "<svg xmlns=\"http://www.w3.org/2000/svg\" height=\"24px\"viewBox=\"0 0 24 24\"\n",
              "     width=\"24px\">\n",
              "    <g>\n",
              "        <path d=\"M19 3H5c-1.1 0-2 .9-2 2v14c0 1.1.9 2 2 2h14c1.1 0 2-.9 2-2V5c0-1.1-.9-2-2-2zM9 17H7v-7h2v7zm4 0h-2V7h2v10zm4 0h-2v-4h2v4z\"/>\n",
              "    </g>\n",
              "</svg>\n",
              "      </button>\n",
              "    </div>\n",
              "\n",
              "<style>\n",
              "  .colab-df-quickchart {\n",
              "    background-color: #E8F0FE;\n",
              "    border: none;\n",
              "    border-radius: 50%;\n",
              "    cursor: pointer;\n",
              "    display: none;\n",
              "    fill: #1967D2;\n",
              "    height: 32px;\n",
              "    padding: 0 0 0 0;\n",
              "    width: 32px;\n",
              "  }\n",
              "\n",
              "  .colab-df-quickchart:hover {\n",
              "    background-color: #E2EBFA;\n",
              "    box-shadow: 0px 1px 2px rgba(60, 64, 67, 0.3), 0px 1px 3px 1px rgba(60, 64, 67, 0.15);\n",
              "    fill: #174EA6;\n",
              "  }\n",
              "\n",
              "  [theme=dark] .colab-df-quickchart {\n",
              "    background-color: #3B4455;\n",
              "    fill: #D2E3FC;\n",
              "  }\n",
              "\n",
              "  [theme=dark] .colab-df-quickchart:hover {\n",
              "    background-color: #434B5C;\n",
              "    box-shadow: 0px 1px 3px 1px rgba(0, 0, 0, 0.15);\n",
              "    filter: drop-shadow(0px 1px 2px rgba(0, 0, 0, 0.3));\n",
              "    fill: #FFFFFF;\n",
              "  }\n",
              "</style>\n",
              "\n",
              "    <script>\n",
              "      async function quickchart(key) {\n",
              "        const containerElement = document.querySelector('#' + key);\n",
              "        const charts = await google.colab.kernel.invokeFunction(\n",
              "            'suggestCharts', [key], {});\n",
              "      }\n",
              "    </script>\n",
              "\n",
              "      <script>\n",
              "\n",
              "function displayQuickchartButton(domScope) {\n",
              "  let quickchartButtonEl =\n",
              "    domScope.querySelector('#df-c4128ce1-0efe-4c95-b4f1-f0e3ea16b193 button.colab-df-quickchart');\n",
              "  quickchartButtonEl.style.display =\n",
              "    google.colab.kernel.accessAllowed ? 'block' : 'none';\n",
              "}\n",
              "\n",
              "        displayQuickchartButton(document);\n",
              "      </script>\n",
              "      <style>\n",
              "    .colab-df-container {\n",
              "      display:flex;\n",
              "      flex-wrap:wrap;\n",
              "      gap: 12px;\n",
              "    }\n",
              "\n",
              "    .colab-df-convert {\n",
              "      background-color: #E8F0FE;\n",
              "      border: none;\n",
              "      border-radius: 50%;\n",
              "      cursor: pointer;\n",
              "      display: none;\n",
              "      fill: #1967D2;\n",
              "      height: 32px;\n",
              "      padding: 0 0 0 0;\n",
              "      width: 32px;\n",
              "    }\n",
              "\n",
              "    .colab-df-convert:hover {\n",
              "      background-color: #E2EBFA;\n",
              "      box-shadow: 0px 1px 2px rgba(60, 64, 67, 0.3), 0px 1px 3px 1px rgba(60, 64, 67, 0.15);\n",
              "      fill: #174EA6;\n",
              "    }\n",
              "\n",
              "    [theme=dark] .colab-df-convert {\n",
              "      background-color: #3B4455;\n",
              "      fill: #D2E3FC;\n",
              "    }\n",
              "\n",
              "    [theme=dark] .colab-df-convert:hover {\n",
              "      background-color: #434B5C;\n",
              "      box-shadow: 0px 1px 3px 1px rgba(0, 0, 0, 0.15);\n",
              "      filter: drop-shadow(0px 1px 2px rgba(0, 0, 0, 0.3));\n",
              "      fill: #FFFFFF;\n",
              "    }\n",
              "  </style>\n",
              "\n",
              "      <script>\n",
              "        const buttonEl =\n",
              "          document.querySelector('#df-9ddf3348-371e-41bb-a712-e7a7d5f6369b button.colab-df-convert');\n",
              "        buttonEl.style.display =\n",
              "          google.colab.kernel.accessAllowed ? 'block' : 'none';\n",
              "\n",
              "        async function convertToInteractive(key) {\n",
              "          const element = document.querySelector('#df-9ddf3348-371e-41bb-a712-e7a7d5f6369b');\n",
              "          const dataTable =\n",
              "            await google.colab.kernel.invokeFunction('convertToInteractive',\n",
              "                                                     [key], {});\n",
              "          if (!dataTable) return;\n",
              "\n",
              "          const docLinkHtml = 'Like what you see? Visit the ' +\n",
              "            '<a target=\"_blank\" href=https://colab.research.google.com/notebooks/data_table.ipynb>data table notebook</a>'\n",
              "            + ' to learn more about interactive tables.';\n",
              "          element.innerHTML = '';\n",
              "          dataTable['output_type'] = 'display_data';\n",
              "          await google.colab.output.renderOutput(dataTable, element);\n",
              "          const docLink = document.createElement('div');\n",
              "          docLink.innerHTML = docLinkHtml;\n",
              "          element.appendChild(docLink);\n",
              "        }\n",
              "      </script>\n",
              "    </div>\n",
              "  </div>\n"
            ]
          },
          "metadata": {},
          "execution_count": 7
        }
      ]
    },
    {
      "cell_type": "code",
      "source": [
        "data_valid = data.dropna()"
      ],
      "metadata": {
        "execution": {
          "iopub.status.busy": "2023-07-07T13:34:45.536001Z",
          "iopub.execute_input": "2023-07-07T13:34:45.537169Z",
          "iopub.status.idle": "2023-07-07T13:34:45.545968Z",
          "shell.execute_reply.started": "2023-07-07T13:34:45.537131Z",
          "shell.execute_reply": "2023-07-07T13:34:45.544996Z"
        },
        "trusted": true,
        "id": "Ed-m2vQmnMge"
      },
      "execution_count": 8,
      "outputs": []
    },
    {
      "cell_type": "code",
      "source": [
        "data_valid"
      ],
      "metadata": {
        "execution": {
          "iopub.status.busy": "2023-07-07T13:34:45.548702Z",
          "iopub.execute_input": "2023-07-07T13:34:45.549145Z",
          "iopub.status.idle": "2023-07-07T13:34:45.570383Z",
          "shell.execute_reply.started": "2023-07-07T13:34:45.549108Z",
          "shell.execute_reply": "2023-07-07T13:34:45.569271Z"
        },
        "trusted": true,
        "colab": {
          "base_uri": "https://localhost:8080/",
          "height": 424
        },
        "id": "gyGFSXPBnMgf",
        "outputId": "6c4161e1-6d00-4720-f8ff-1f32f2a3efd5"
      },
      "execution_count": 9,
      "outputs": [
        {
          "output_type": "execute_result",
          "data": {
            "text/plain": [
              "            Date          Open          High           Low         Close  \\\n",
              "0     2010-01-04   5200.899902   5238.450195   5167.100098   5232.200195   \n",
              "1     2010-01-05   5277.149902   5288.350098   5242.399902   5277.899902   \n",
              "2     2010-01-06   5278.149902   5310.850098   5260.049805   5281.799805   \n",
              "3     2010-01-07   5281.799805   5302.549805   5244.750000   5263.100098   \n",
              "4     2010-01-08   5264.250000   5276.750000   5234.700195   5244.750000   \n",
              "...          ...           ...           ...           ...           ...   \n",
              "2689  2021-04-26  14449.450200  14557.500000  14421.299810  14485.000000   \n",
              "2690  2021-04-27  14493.799810  14667.549810  14484.849610  14653.049810   \n",
              "2691  2021-04-28  14710.500000  14890.250000  14694.950200  14864.549810   \n",
              "2692  2021-04-29  14979.000000  15044.349610  14814.450200  14894.900390   \n",
              "2693  2021-04-30  14747.349610  14855.450200  14601.700200  14631.099610   \n",
              "\n",
              "         Adj Close    Volume  \n",
              "0      5232.200195       0.0  \n",
              "1      5277.899902       0.0  \n",
              "2      5281.799805       0.0  \n",
              "3      5263.100098       0.0  \n",
              "4      5244.750000       0.0  \n",
              "...            ...       ...  \n",
              "2689  14485.000000  452700.0  \n",
              "2690  14653.049810  451800.0  \n",
              "2691  14864.549810  457000.0  \n",
              "2692  14894.900390  517500.0  \n",
              "2693  14631.099610  613900.0  \n",
              "\n",
              "[2667 rows x 7 columns]"
            ],
            "text/html": [
              "\n",
              "\n",
              "  <div id=\"df-c2590cfd-b5b4-43a7-99cf-098e20637874\">\n",
              "    <div class=\"colab-df-container\">\n",
              "      <div>\n",
              "<style scoped>\n",
              "    .dataframe tbody tr th:only-of-type {\n",
              "        vertical-align: middle;\n",
              "    }\n",
              "\n",
              "    .dataframe tbody tr th {\n",
              "        vertical-align: top;\n",
              "    }\n",
              "\n",
              "    .dataframe thead th {\n",
              "        text-align: right;\n",
              "    }\n",
              "</style>\n",
              "<table border=\"1\" class=\"dataframe\">\n",
              "  <thead>\n",
              "    <tr style=\"text-align: right;\">\n",
              "      <th></th>\n",
              "      <th>Date</th>\n",
              "      <th>Open</th>\n",
              "      <th>High</th>\n",
              "      <th>Low</th>\n",
              "      <th>Close</th>\n",
              "      <th>Adj Close</th>\n",
              "      <th>Volume</th>\n",
              "    </tr>\n",
              "  </thead>\n",
              "  <tbody>\n",
              "    <tr>\n",
              "      <th>0</th>\n",
              "      <td>2010-01-04</td>\n",
              "      <td>5200.899902</td>\n",
              "      <td>5238.450195</td>\n",
              "      <td>5167.100098</td>\n",
              "      <td>5232.200195</td>\n",
              "      <td>5232.200195</td>\n",
              "      <td>0.0</td>\n",
              "    </tr>\n",
              "    <tr>\n",
              "      <th>1</th>\n",
              "      <td>2010-01-05</td>\n",
              "      <td>5277.149902</td>\n",
              "      <td>5288.350098</td>\n",
              "      <td>5242.399902</td>\n",
              "      <td>5277.899902</td>\n",
              "      <td>5277.899902</td>\n",
              "      <td>0.0</td>\n",
              "    </tr>\n",
              "    <tr>\n",
              "      <th>2</th>\n",
              "      <td>2010-01-06</td>\n",
              "      <td>5278.149902</td>\n",
              "      <td>5310.850098</td>\n",
              "      <td>5260.049805</td>\n",
              "      <td>5281.799805</td>\n",
              "      <td>5281.799805</td>\n",
              "      <td>0.0</td>\n",
              "    </tr>\n",
              "    <tr>\n",
              "      <th>3</th>\n",
              "      <td>2010-01-07</td>\n",
              "      <td>5281.799805</td>\n",
              "      <td>5302.549805</td>\n",
              "      <td>5244.750000</td>\n",
              "      <td>5263.100098</td>\n",
              "      <td>5263.100098</td>\n",
              "      <td>0.0</td>\n",
              "    </tr>\n",
              "    <tr>\n",
              "      <th>4</th>\n",
              "      <td>2010-01-08</td>\n",
              "      <td>5264.250000</td>\n",
              "      <td>5276.750000</td>\n",
              "      <td>5234.700195</td>\n",
              "      <td>5244.750000</td>\n",
              "      <td>5244.750000</td>\n",
              "      <td>0.0</td>\n",
              "    </tr>\n",
              "    <tr>\n",
              "      <th>...</th>\n",
              "      <td>...</td>\n",
              "      <td>...</td>\n",
              "      <td>...</td>\n",
              "      <td>...</td>\n",
              "      <td>...</td>\n",
              "      <td>...</td>\n",
              "      <td>...</td>\n",
              "    </tr>\n",
              "    <tr>\n",
              "      <th>2689</th>\n",
              "      <td>2021-04-26</td>\n",
              "      <td>14449.450200</td>\n",
              "      <td>14557.500000</td>\n",
              "      <td>14421.299810</td>\n",
              "      <td>14485.000000</td>\n",
              "      <td>14485.000000</td>\n",
              "      <td>452700.0</td>\n",
              "    </tr>\n",
              "    <tr>\n",
              "      <th>2690</th>\n",
              "      <td>2021-04-27</td>\n",
              "      <td>14493.799810</td>\n",
              "      <td>14667.549810</td>\n",
              "      <td>14484.849610</td>\n",
              "      <td>14653.049810</td>\n",
              "      <td>14653.049810</td>\n",
              "      <td>451800.0</td>\n",
              "    </tr>\n",
              "    <tr>\n",
              "      <th>2691</th>\n",
              "      <td>2021-04-28</td>\n",
              "      <td>14710.500000</td>\n",
              "      <td>14890.250000</td>\n",
              "      <td>14694.950200</td>\n",
              "      <td>14864.549810</td>\n",
              "      <td>14864.549810</td>\n",
              "      <td>457000.0</td>\n",
              "    </tr>\n",
              "    <tr>\n",
              "      <th>2692</th>\n",
              "      <td>2021-04-29</td>\n",
              "      <td>14979.000000</td>\n",
              "      <td>15044.349610</td>\n",
              "      <td>14814.450200</td>\n",
              "      <td>14894.900390</td>\n",
              "      <td>14894.900390</td>\n",
              "      <td>517500.0</td>\n",
              "    </tr>\n",
              "    <tr>\n",
              "      <th>2693</th>\n",
              "      <td>2021-04-30</td>\n",
              "      <td>14747.349610</td>\n",
              "      <td>14855.450200</td>\n",
              "      <td>14601.700200</td>\n",
              "      <td>14631.099610</td>\n",
              "      <td>14631.099610</td>\n",
              "      <td>613900.0</td>\n",
              "    </tr>\n",
              "  </tbody>\n",
              "</table>\n",
              "<p>2667 rows × 7 columns</p>\n",
              "</div>\n",
              "      <button class=\"colab-df-convert\" onclick=\"convertToInteractive('df-c2590cfd-b5b4-43a7-99cf-098e20637874')\"\n",
              "              title=\"Convert this dataframe to an interactive table.\"\n",
              "              style=\"display:none;\">\n",
              "\n",
              "  <svg xmlns=\"http://www.w3.org/2000/svg\" height=\"24px\"viewBox=\"0 0 24 24\"\n",
              "       width=\"24px\">\n",
              "    <path d=\"M0 0h24v24H0V0z\" fill=\"none\"/>\n",
              "    <path d=\"M18.56 5.44l.94 2.06.94-2.06 2.06-.94-2.06-.94-.94-2.06-.94 2.06-2.06.94zm-11 1L8.5 8.5l.94-2.06 2.06-.94-2.06-.94L8.5 2.5l-.94 2.06-2.06.94zm10 10l.94 2.06.94-2.06 2.06-.94-2.06-.94-.94-2.06-.94 2.06-2.06.94z\"/><path d=\"M17.41 7.96l-1.37-1.37c-.4-.4-.92-.59-1.43-.59-.52 0-1.04.2-1.43.59L10.3 9.45l-7.72 7.72c-.78.78-.78 2.05 0 2.83L4 21.41c.39.39.9.59 1.41.59.51 0 1.02-.2 1.41-.59l7.78-7.78 2.81-2.81c.8-.78.8-2.07 0-2.86zM5.41 20L4 18.59l7.72-7.72 1.47 1.35L5.41 20z\"/>\n",
              "  </svg>\n",
              "      </button>\n",
              "\n",
              "\n",
              "\n",
              "    <div id=\"df-d8327510-908f-42f2-b657-9013dd3d369e\">\n",
              "      <button class=\"colab-df-quickchart\" onclick=\"quickchart('df-d8327510-908f-42f2-b657-9013dd3d369e')\"\n",
              "              title=\"Suggest charts.\"\n",
              "              style=\"display:none;\">\n",
              "\n",
              "<svg xmlns=\"http://www.w3.org/2000/svg\" height=\"24px\"viewBox=\"0 0 24 24\"\n",
              "     width=\"24px\">\n",
              "    <g>\n",
              "        <path d=\"M19 3H5c-1.1 0-2 .9-2 2v14c0 1.1.9 2 2 2h14c1.1 0 2-.9 2-2V5c0-1.1-.9-2-2-2zM9 17H7v-7h2v7zm4 0h-2V7h2v10zm4 0h-2v-4h2v4z\"/>\n",
              "    </g>\n",
              "</svg>\n",
              "      </button>\n",
              "    </div>\n",
              "\n",
              "<style>\n",
              "  .colab-df-quickchart {\n",
              "    background-color: #E8F0FE;\n",
              "    border: none;\n",
              "    border-radius: 50%;\n",
              "    cursor: pointer;\n",
              "    display: none;\n",
              "    fill: #1967D2;\n",
              "    height: 32px;\n",
              "    padding: 0 0 0 0;\n",
              "    width: 32px;\n",
              "  }\n",
              "\n",
              "  .colab-df-quickchart:hover {\n",
              "    background-color: #E2EBFA;\n",
              "    box-shadow: 0px 1px 2px rgba(60, 64, 67, 0.3), 0px 1px 3px 1px rgba(60, 64, 67, 0.15);\n",
              "    fill: #174EA6;\n",
              "  }\n",
              "\n",
              "  [theme=dark] .colab-df-quickchart {\n",
              "    background-color: #3B4455;\n",
              "    fill: #D2E3FC;\n",
              "  }\n",
              "\n",
              "  [theme=dark] .colab-df-quickchart:hover {\n",
              "    background-color: #434B5C;\n",
              "    box-shadow: 0px 1px 3px 1px rgba(0, 0, 0, 0.15);\n",
              "    filter: drop-shadow(0px 1px 2px rgba(0, 0, 0, 0.3));\n",
              "    fill: #FFFFFF;\n",
              "  }\n",
              "</style>\n",
              "\n",
              "    <script>\n",
              "      async function quickchart(key) {\n",
              "        const containerElement = document.querySelector('#' + key);\n",
              "        const charts = await google.colab.kernel.invokeFunction(\n",
              "            'suggestCharts', [key], {});\n",
              "      }\n",
              "    </script>\n",
              "\n",
              "      <script>\n",
              "\n",
              "function displayQuickchartButton(domScope) {\n",
              "  let quickchartButtonEl =\n",
              "    domScope.querySelector('#df-d8327510-908f-42f2-b657-9013dd3d369e button.colab-df-quickchart');\n",
              "  quickchartButtonEl.style.display =\n",
              "    google.colab.kernel.accessAllowed ? 'block' : 'none';\n",
              "}\n",
              "\n",
              "        displayQuickchartButton(document);\n",
              "      </script>\n",
              "      <style>\n",
              "    .colab-df-container {\n",
              "      display:flex;\n",
              "      flex-wrap:wrap;\n",
              "      gap: 12px;\n",
              "    }\n",
              "\n",
              "    .colab-df-convert {\n",
              "      background-color: #E8F0FE;\n",
              "      border: none;\n",
              "      border-radius: 50%;\n",
              "      cursor: pointer;\n",
              "      display: none;\n",
              "      fill: #1967D2;\n",
              "      height: 32px;\n",
              "      padding: 0 0 0 0;\n",
              "      width: 32px;\n",
              "    }\n",
              "\n",
              "    .colab-df-convert:hover {\n",
              "      background-color: #E2EBFA;\n",
              "      box-shadow: 0px 1px 2px rgba(60, 64, 67, 0.3), 0px 1px 3px 1px rgba(60, 64, 67, 0.15);\n",
              "      fill: #174EA6;\n",
              "    }\n",
              "\n",
              "    [theme=dark] .colab-df-convert {\n",
              "      background-color: #3B4455;\n",
              "      fill: #D2E3FC;\n",
              "    }\n",
              "\n",
              "    [theme=dark] .colab-df-convert:hover {\n",
              "      background-color: #434B5C;\n",
              "      box-shadow: 0px 1px 3px 1px rgba(0, 0, 0, 0.15);\n",
              "      filter: drop-shadow(0px 1px 2px rgba(0, 0, 0, 0.3));\n",
              "      fill: #FFFFFF;\n",
              "    }\n",
              "  </style>\n",
              "\n",
              "      <script>\n",
              "        const buttonEl =\n",
              "          document.querySelector('#df-c2590cfd-b5b4-43a7-99cf-098e20637874 button.colab-df-convert');\n",
              "        buttonEl.style.display =\n",
              "          google.colab.kernel.accessAllowed ? 'block' : 'none';\n",
              "\n",
              "        async function convertToInteractive(key) {\n",
              "          const element = document.querySelector('#df-c2590cfd-b5b4-43a7-99cf-098e20637874');\n",
              "          const dataTable =\n",
              "            await google.colab.kernel.invokeFunction('convertToInteractive',\n",
              "                                                     [key], {});\n",
              "          if (!dataTable) return;\n",
              "\n",
              "          const docLinkHtml = 'Like what you see? Visit the ' +\n",
              "            '<a target=\"_blank\" href=https://colab.research.google.com/notebooks/data_table.ipynb>data table notebook</a>'\n",
              "            + ' to learn more about interactive tables.';\n",
              "          element.innerHTML = '';\n",
              "          dataTable['output_type'] = 'display_data';\n",
              "          await google.colab.output.renderOutput(dataTable, element);\n",
              "          const docLink = document.createElement('div');\n",
              "          docLink.innerHTML = docLinkHtml;\n",
              "          element.appendChild(docLink);\n",
              "        }\n",
              "      </script>\n",
              "    </div>\n",
              "  </div>\n"
            ]
          },
          "metadata": {},
          "execution_count": 9
        }
      ]
    },
    {
      "cell_type": "code",
      "source": [
        "data_valid_close = data_valid.reset_index()['Close']"
      ],
      "metadata": {
        "execution": {
          "iopub.status.busy": "2023-07-07T13:34:45.572442Z",
          "iopub.execute_input": "2023-07-07T13:34:45.573403Z",
          "iopub.status.idle": "2023-07-07T13:34:45.578848Z",
          "shell.execute_reply.started": "2023-07-07T13:34:45.573360Z",
          "shell.execute_reply": "2023-07-07T13:34:45.577834Z"
        },
        "trusted": true,
        "id": "EkOs-0NfnMgg"
      },
      "execution_count": 10,
      "outputs": []
    },
    {
      "cell_type": "code",
      "source": [
        "scaler = MinMaxScaler(feature_range=(0,1))"
      ],
      "metadata": {
        "execution": {
          "iopub.status.busy": "2023-07-07T13:34:45.580168Z",
          "iopub.execute_input": "2023-07-07T13:34:45.581220Z",
          "iopub.status.idle": "2023-07-07T13:34:45.589143Z",
          "shell.execute_reply.started": "2023-07-07T13:34:45.581181Z",
          "shell.execute_reply": "2023-07-07T13:34:45.588051Z"
        },
        "trusted": true,
        "id": "i5XlvQ6tnMgh"
      },
      "execution_count": 11,
      "outputs": []
    },
    {
      "cell_type": "code",
      "source": [
        "data_valid_close = scaler.fit_transform(np.array(data_valid_close).reshape(-1,1))"
      ],
      "metadata": {
        "execution": {
          "iopub.status.busy": "2023-07-07T13:34:45.648103Z",
          "iopub.execute_input": "2023-07-07T13:34:45.648745Z",
          "iopub.status.idle": "2023-07-07T13:34:45.654962Z",
          "shell.execute_reply.started": "2023-07-07T13:34:45.648715Z",
          "shell.execute_reply": "2023-07-07T13:34:45.654025Z"
        },
        "trusted": true,
        "id": "IMuBuENsnMgj"
      },
      "execution_count": 12,
      "outputs": []
    },
    {
      "cell_type": "code",
      "source": [
        "joblib.dump(scaler, '/content/drive/MyDrive/FISA A2/scaler.gz')"
      ],
      "metadata": {
        "colab": {
          "base_uri": "https://localhost:8080/"
        },
        "id": "pWrz69RKTZBX",
        "outputId": "9a059634-fa70-4344-d39b-cd180e85622a"
      },
      "execution_count": 13,
      "outputs": [
        {
          "output_type": "execute_result",
          "data": {
            "text/plain": [
              "['/content/drive/MyDrive/FISA A2/scaler.gz']"
            ]
          },
          "metadata": {},
          "execution_count": 13
        }
      ]
    },
    {
      "cell_type": "code",
      "source": [
        "num_training_samples = int(len(data_valid_close)*0.8)\n",
        "num_testing_samples = len(data_valid_close) - num_training_samples"
      ],
      "metadata": {
        "execution": {
          "iopub.status.busy": "2023-07-07T13:34:45.657023Z",
          "iopub.execute_input": "2023-07-07T13:34:45.657693Z",
          "iopub.status.idle": "2023-07-07T13:34:45.665731Z",
          "shell.execute_reply.started": "2023-07-07T13:34:45.657643Z",
          "shell.execute_reply": "2023-07-07T13:34:45.664778Z"
        },
        "trusted": true,
        "id": "bqsjrSLfnMgn"
      },
      "execution_count": 14,
      "outputs": []
    },
    {
      "cell_type": "code",
      "source": [
        "num_training_samples,num_testing_samples"
      ],
      "metadata": {
        "execution": {
          "iopub.status.busy": "2023-07-07T13:34:45.667373Z",
          "iopub.execute_input": "2023-07-07T13:34:45.668150Z",
          "iopub.status.idle": "2023-07-07T13:34:45.679703Z",
          "shell.execute_reply.started": "2023-07-07T13:34:45.668115Z",
          "shell.execute_reply": "2023-07-07T13:34:45.678008Z"
        },
        "trusted": true,
        "colab": {
          "base_uri": "https://localhost:8080/"
        },
        "id": "40PnbjWsnMgp",
        "outputId": "6a8bc6df-28a0-49f7-8237-28cc9ba4fa05"
      },
      "execution_count": 15,
      "outputs": [
        {
          "output_type": "execute_result",
          "data": {
            "text/plain": [
              "(2133, 534)"
            ]
          },
          "metadata": {},
          "execution_count": 15
        }
      ]
    },
    {
      "cell_type": "code",
      "source": [
        "data_valid_close = np.array(data_valid_close).reshape(-1,1)"
      ],
      "metadata": {
        "execution": {
          "iopub.status.busy": "2023-07-07T13:34:45.682793Z",
          "iopub.execute_input": "2023-07-07T13:34:45.683078Z",
          "iopub.status.idle": "2023-07-07T13:34:45.687857Z",
          "shell.execute_reply.started": "2023-07-07T13:34:45.683048Z",
          "shell.execute_reply": "2023-07-07T13:34:45.686804Z"
        },
        "trusted": true,
        "id": "WqqpvpNRnMgq"
      },
      "execution_count": 16,
      "outputs": []
    },
    {
      "cell_type": "code",
      "source": [
        "past_data_length = 50\n",
        "prediction_data_length = 2"
      ],
      "metadata": {
        "execution": {
          "iopub.status.busy": "2023-07-07T13:34:45.690788Z",
          "iopub.execute_input": "2023-07-07T13:34:45.692150Z",
          "iopub.status.idle": "2023-07-07T13:34:45.697656Z",
          "shell.execute_reply.started": "2023-07-07T13:34:45.692125Z",
          "shell.execute_reply": "2023-07-07T13:34:45.696571Z"
        },
        "trusted": true,
        "id": "h7Ud-ob_nMgq"
      },
      "execution_count": 17,
      "outputs": []
    },
    {
      "cell_type": "code",
      "source": [
        "\n",
        "timeseries = []\n",
        "prediction = []\n",
        "for i in range(len(data_valid_close)-(past_data_length+prediction_data_length)+1):\n",
        "    data = data_valid_close[i:i+(past_data_length+prediction_data_length)]\n",
        "    x = data[:past_data_length]\n",
        "    y = data[past_data_length:]\n",
        "    timeseries.append(x)\n",
        "    prediction.append(y)\n",
        "X = np.stack(timeseries)\n",
        "Y = np.stack(prediction)"
      ],
      "metadata": {
        "execution": {
          "iopub.status.busy": "2023-07-07T13:34:45.699188Z",
          "iopub.execute_input": "2023-07-07T13:34:45.699820Z",
          "iopub.status.idle": "2023-07-07T13:34:45.719189Z",
          "shell.execute_reply.started": "2023-07-07T13:34:45.699789Z",
          "shell.execute_reply": "2023-07-07T13:34:45.718318Z"
        },
        "trusted": true,
        "id": "Nxs5-7L1nMgr"
      },
      "execution_count": 18,
      "outputs": []
    },
    {
      "cell_type": "code",
      "source": [
        "X.shape,Y.shape"
      ],
      "metadata": {
        "execution": {
          "iopub.status.busy": "2023-07-07T13:34:45.721052Z",
          "iopub.execute_input": "2023-07-07T13:34:45.721814Z",
          "iopub.status.idle": "2023-07-07T13:34:45.728259Z",
          "shell.execute_reply.started": "2023-07-07T13:34:45.721778Z",
          "shell.execute_reply": "2023-07-07T13:34:45.727329Z"
        },
        "trusted": true,
        "colab": {
          "base_uri": "https://localhost:8080/"
        },
        "id": "G2X91L1gnMgr",
        "outputId": "8f2f163e-5386-4b0d-e574-0c97610e76e3"
      },
      "execution_count": 19,
      "outputs": [
        {
          "output_type": "execute_result",
          "data": {
            "text/plain": [
              "((2616, 50, 1), (2616, 2, 1))"
            ]
          },
          "metadata": {},
          "execution_count": 19
        }
      ]
    },
    {
      "cell_type": "code",
      "source": [
        "X_train, X_val, Y_train, Y_val = train_test_split(X, Y, test_size=0.2, random_state=42)"
      ],
      "metadata": {
        "execution": {
          "iopub.status.busy": "2023-07-07T13:34:45.731319Z",
          "iopub.execute_input": "2023-07-07T13:34:45.731936Z",
          "iopub.status.idle": "2023-07-07T13:34:45.739496Z",
          "shell.execute_reply.started": "2023-07-07T13:34:45.731904Z",
          "shell.execute_reply": "2023-07-07T13:34:45.738598Z"
        },
        "trusted": true,
        "id": "T7xtDUD3nMgs"
      },
      "execution_count": 20,
      "outputs": []
    },
    {
      "cell_type": "code",
      "source": [
        "X_train.shape,Y_train.shape,X_val.shape,Y_val.shape"
      ],
      "metadata": {
        "execution": {
          "iopub.status.busy": "2023-07-07T13:34:45.741225Z",
          "iopub.execute_input": "2023-07-07T13:34:45.741935Z",
          "iopub.status.idle": "2023-07-07T13:34:45.752705Z",
          "shell.execute_reply.started": "2023-07-07T13:34:45.741903Z",
          "shell.execute_reply": "2023-07-07T13:34:45.751495Z"
        },
        "trusted": true,
        "colab": {
          "base_uri": "https://localhost:8080/"
        },
        "id": "yywO_THCnMgs",
        "outputId": "9465cce3-855a-422e-8820-2a2606d991ea"
      },
      "execution_count": 21,
      "outputs": [
        {
          "output_type": "execute_result",
          "data": {
            "text/plain": [
              "((2092, 50, 1), (2092, 2, 1), (524, 50, 1), (524, 2, 1))"
            ]
          },
          "metadata": {},
          "execution_count": 21
        }
      ]
    },
    {
      "cell_type": "code",
      "source": [
        "X_train = torch.from_numpy(X_train).float()\n",
        "Y_train = torch.from_numpy(Y_train).float()\n",
        "X_val = torch.from_numpy(X_val).float()\n",
        "Y_val = torch.from_numpy(Y_val).float()"
      ],
      "metadata": {
        "execution": {
          "iopub.status.busy": "2023-07-07T13:34:45.754683Z",
          "iopub.execute_input": "2023-07-07T13:34:45.755480Z",
          "iopub.status.idle": "2023-07-07T13:34:45.762374Z",
          "shell.execute_reply.started": "2023-07-07T13:34:45.755449Z",
          "shell.execute_reply": "2023-07-07T13:34:45.761658Z"
        },
        "trusted": true,
        "id": "dwUfkIWunMgt"
      },
      "execution_count": 22,
      "outputs": []
    },
    {
      "cell_type": "code",
      "source": [
        "X_train.dtype"
      ],
      "metadata": {
        "execution": {
          "iopub.status.busy": "2023-07-07T13:34:45.763746Z",
          "iopub.execute_input": "2023-07-07T13:34:45.764564Z",
          "iopub.status.idle": "2023-07-07T13:34:45.772911Z",
          "shell.execute_reply.started": "2023-07-07T13:34:45.764532Z",
          "shell.execute_reply": "2023-07-07T13:34:45.771724Z"
        },
        "trusted": true,
        "colab": {
          "base_uri": "https://localhost:8080/"
        },
        "id": "U-_WVLVQnMgt",
        "outputId": "0ded7570-3c29-4330-be57-fe4da7890598"
      },
      "execution_count": 23,
      "outputs": [
        {
          "output_type": "execute_result",
          "data": {
            "text/plain": [
              "torch.float32"
            ]
          },
          "metadata": {},
          "execution_count": 23
        }
      ]
    },
    {
      "cell_type": "code",
      "source": [
        "training_dataset = torch.utils.data.TensorDataset(X_train,Y_train)\n",
        "validation_dataset = torch.utils.data.TensorDataset(X_val,Y_val)"
      ],
      "metadata": {
        "execution": {
          "iopub.status.busy": "2023-07-07T13:34:45.777053Z",
          "iopub.execute_input": "2023-07-07T13:34:45.777539Z",
          "iopub.status.idle": "2023-07-07T13:34:45.784203Z",
          "shell.execute_reply.started": "2023-07-07T13:34:45.777513Z",
          "shell.execute_reply": "2023-07-07T13:34:45.783282Z"
        },
        "trusted": true,
        "id": "jro9f0b4nMgu"
      },
      "execution_count": 24,
      "outputs": []
    },
    {
      "cell_type": "code",
      "source": [
        "trainloader = torch.utils.data.DataLoader(training_dataset,batch_size = 1046,shuffle = True,collate_fn = torch.utils.data.default_collate , num_workers = 2)\n",
        "validationloader = torch.utils.data.DataLoader(validation_dataset,batch_size = 100,shuffle = True,collate_fn = torch.utils.data.default_collate , num_workers = 2)"
      ],
      "metadata": {
        "execution": {
          "iopub.status.busy": "2023-07-07T13:34:45.785780Z",
          "iopub.execute_input": "2023-07-07T13:34:45.786489Z",
          "iopub.status.idle": "2023-07-07T13:34:45.796709Z",
          "shell.execute_reply.started": "2023-07-07T13:34:45.786458Z",
          "shell.execute_reply": "2023-07-07T13:34:45.795757Z"
        },
        "trusted": true,
        "id": "nqp6dCNonMgu"
      },
      "execution_count": 25,
      "outputs": []
    },
    {
      "cell_type": "code",
      "source": [
        "class LSTMmodel(nn.Module):\n",
        "    def __init__(self):\n",
        "        super().__init__()\n",
        "        self.lstm = nn.GRU(input_size=1, hidden_size=16, num_layers=2, batch_first=True, bidirectional = True)\n",
        "        self.linear1 = nn.Linear(32, 16)\n",
        "        self.linear2 = nn.Linear(16, 2)\n",
        "    def forward(self, x):\n",
        "        x, _ = self.lstm(x)\n",
        "        x = self.linear1(x[:,-1,:])\n",
        "        x = self.linear2(x)\n",
        "        return x"
      ],
      "metadata": {
        "execution": {
          "iopub.status.busy": "2023-07-07T13:34:45.798822Z",
          "iopub.execute_input": "2023-07-07T13:34:45.799969Z",
          "iopub.status.idle": "2023-07-07T13:34:45.807087Z",
          "shell.execute_reply.started": "2023-07-07T13:34:45.799933Z",
          "shell.execute_reply": "2023-07-07T13:34:45.806358Z"
        },
        "trusted": true,
        "id": "XRTxwnNmnMgu"
      },
      "execution_count": 26,
      "outputs": []
    },
    {
      "cell_type": "code",
      "source": [
        "model = LSTMmodel()\n",
        "optimizer = torch.optim.Adam(model.parameters(),lr= 1e-3,amsgrad=True)#weight_decay= 0.0005)\n",
        "loss_fn = nn.MSELoss()\n",
        "epochs = 2000"
      ],
      "metadata": {
        "execution": {
          "iopub.status.busy": "2023-07-07T13:34:45.808765Z",
          "iopub.execute_input": "2023-07-07T13:34:45.809481Z",
          "iopub.status.idle": "2023-07-07T13:34:45.822677Z",
          "shell.execute_reply.started": "2023-07-07T13:34:45.809446Z",
          "shell.execute_reply": "2023-07-07T13:34:45.821760Z"
        },
        "trusted": true,
        "id": "9OdWvnILnMgv"
      },
      "execution_count": 27,
      "outputs": []
    },
    {
      "cell_type": "code",
      "source": [
        "model.to(device)"
      ],
      "metadata": {
        "execution": {
          "iopub.status.busy": "2023-07-07T13:34:45.824134Z",
          "iopub.execute_input": "2023-07-07T13:34:45.824882Z",
          "iopub.status.idle": "2023-07-07T13:34:45.835023Z",
          "shell.execute_reply.started": "2023-07-07T13:34:45.824850Z",
          "shell.execute_reply": "2023-07-07T13:34:45.833891Z"
        },
        "trusted": true,
        "colab": {
          "base_uri": "https://localhost:8080/"
        },
        "id": "YuPq6gRqnMgw",
        "outputId": "25934f50-8ee8-4f20-f88d-e31c9457df7a"
      },
      "execution_count": null,
      "outputs": [
        {
          "output_type": "execute_result",
          "data": {
            "text/plain": [
              "LSTMmodel(\n",
              "  (lstm): GRU(1, 16, num_layers=2, batch_first=True, bidirectional=True)\n",
              "  (linear1): Linear(in_features=32, out_features=16, bias=True)\n",
              "  (linear2): Linear(in_features=16, out_features=2, bias=True)\n",
              ")"
            ]
          },
          "metadata": {},
          "execution_count": 27
        }
      ]
    },
    {
      "cell_type": "code",
      "source": [
        "train_loss_list = []\n",
        "validation_loss_list = []\n",
        "prev_validation_loss = 0\n",
        "for epoch in tqdm(range(epochs)):\n",
        "    model.train()\n",
        "    training_loss = 0\n",
        "    validation_loss = 0\n",
        "\n",
        "    for i,(X_batch,Y_batch) in enumerate(trainloader):\n",
        "        Y_pred = model(X_batch.to(device))\n",
        "        loss = loss_fn(Y_pred,torch.squeeze(Y_batch.to(device)))\n",
        "        optimizer.zero_grad()\n",
        "        loss.backward()\n",
        "        optimizer.step()\n",
        "        training_loss += loss.detach().cpu().numpy()\n",
        "    training_loss = training_loss/len(trainloader)\n",
        "    train_loss_list.append(training_loss)\n",
        "    model.eval()\n",
        "    with torch.no_grad():\n",
        "        for i,(X_batch,Y_batch) in enumerate(validationloader):\n",
        "            Y_pred = model(X_batch.to(device))\n",
        "            loss = loss_fn(Y_pred,torch.squeeze(Y_batch.to(device)))\n",
        "            validation_loss += loss.detach().cpu().numpy()\n",
        "    validation_loss = validation_loss/len(validationloader)\n",
        "    validation_loss_list.append(validation_loss)\n",
        "    if validation_loss < prev_validation_loss :\n",
        "      torch.save(model.state_dict(),\"/content/drive/MyDrive/FISA A2/best_model_GRU_bidirectional_2linear_layer_no_skip_connection\")\n",
        "      prev_validation_loss = validation_loss\n",
        "    if epoch%100 == 0:\n",
        "      print(\"epoch: {} | training loss: {} | validation loss: {}\".format(epoch+1,training_loss,validation_loss))\n",
        "\n",
        "train_loss_list = np.array(train_loss_list)\n",
        "validation_loss_list = np.array(validation_loss_list)\n"
      ],
      "metadata": {
        "execution": {
          "iopub.status.busy": "2023-07-07T13:36:09.622535Z",
          "iopub.execute_input": "2023-07-07T13:36:09.622931Z",
          "iopub.status.idle": "2023-07-07T13:36:10.160047Z",
          "shell.execute_reply.started": "2023-07-07T13:36:09.622897Z",
          "shell.execute_reply": "2023-07-07T13:36:10.158133Z"
        },
        "trusted": true,
        "colab": {
          "base_uri": "https://localhost:8080/"
        },
        "id": "xZ_F7qtCnMgw",
        "outputId": "77dce47e-5ac6-4540-b6b3-cfb3c5516f9d"
      },
      "execution_count": null,
      "outputs": [
        {
          "output_type": "stream",
          "name": "stderr",
          "text": [
            "  0%|          | 1/2000 [00:01<43:41,  1.31s/it]"
          ]
        },
        {
          "output_type": "stream",
          "name": "stdout",
          "text": [
            "epoch: 1 | training loss: 0.24577517062425613 | validation loss: 0.22477282087008157\n"
          ]
        },
        {
          "output_type": "stream",
          "name": "stderr",
          "text": [
            "  5%|▌         | 101/2000 [01:49<31:58,  1.01s/it]"
          ]
        },
        {
          "output_type": "stream",
          "name": "stdout",
          "text": [
            "epoch: 101 | training loss: 0.00027271942235529423 | validation loss: 0.00022998218628345057\n"
          ]
        },
        {
          "output_type": "stream",
          "name": "stderr",
          "text": [
            " 10%|█         | 201/2000 [03:40<33:14,  1.11s/it]"
          ]
        },
        {
          "output_type": "stream",
          "name": "stdout",
          "text": [
            "epoch: 201 | training loss: 0.00021559571177931502 | validation loss: 0.00019219138145369166\n"
          ]
        },
        {
          "output_type": "stream",
          "name": "stderr",
          "text": [
            " 15%|█▌        | 301/2000 [05:56<36:38,  1.29s/it]"
          ]
        },
        {
          "output_type": "stream",
          "name": "stdout",
          "text": [
            "epoch: 301 | training loss: 0.00019066259847022593 | validation loss: 0.0001808281037180374\n"
          ]
        },
        {
          "output_type": "stream",
          "name": "stderr",
          "text": [
            " 20%|██        | 401/2000 [07:53<28:33,  1.07s/it]"
          ]
        },
        {
          "output_type": "stream",
          "name": "stdout",
          "text": [
            "epoch: 401 | training loss: 0.0001752648313413374 | validation loss: 0.0001587909161268423\n"
          ]
        },
        {
          "output_type": "stream",
          "name": "stderr",
          "text": [
            " 25%|██▌       | 501/2000 [09:50<32:11,  1.29s/it]"
          ]
        },
        {
          "output_type": "stream",
          "name": "stdout",
          "text": [
            "epoch: 501 | training loss: 0.00016519081691512838 | validation loss: 0.0001790669496889071\n"
          ]
        },
        {
          "output_type": "stream",
          "name": "stderr",
          "text": [
            " 30%|███       | 601/2000 [11:47<29:33,  1.27s/it]"
          ]
        },
        {
          "output_type": "stream",
          "name": "stdout",
          "text": [
            "epoch: 601 | training loss: 0.00015707145939813927 | validation loss: 0.00014328012912301347\n"
          ]
        },
        {
          "output_type": "stream",
          "name": "stderr",
          "text": [
            " 35%|███▌      | 701/2000 [13:45<24:14,  1.12s/it]"
          ]
        },
        {
          "output_type": "stream",
          "name": "stdout",
          "text": [
            "epoch: 701 | training loss: 0.00015133088163565844 | validation loss: 0.0001349351902414734\n"
          ]
        },
        {
          "output_type": "stream",
          "name": "stderr",
          "text": [
            " 40%|████      | 801/2000 [15:45<25:48,  1.29s/it]"
          ]
        },
        {
          "output_type": "stream",
          "name": "stdout",
          "text": [
            "epoch: 801 | training loss: 0.00014677482249680907 | validation loss: 0.0001397153719153721\n"
          ]
        },
        {
          "output_type": "stream",
          "name": "stderr",
          "text": [
            " 45%|████▌     | 901/2000 [17:55<23:01,  1.26s/it]"
          ]
        },
        {
          "output_type": "stream",
          "name": "stdout",
          "text": [
            "epoch: 901 | training loss: 0.00014300464681582525 | validation loss: 0.00013451526562372843\n"
          ]
        },
        {
          "output_type": "stream",
          "name": "stderr",
          "text": [
            " 50%|█████     | 1001/2000 [19:57<19:49,  1.19s/it]"
          ]
        },
        {
          "output_type": "stream",
          "name": "stdout",
          "text": [
            "epoch: 1001 | training loss: 0.0001400285545969382 | validation loss: 0.000124043279356556\n"
          ]
        },
        {
          "output_type": "stream",
          "name": "stderr",
          "text": [
            " 55%|█████▌    | 1101/2000 [22:03<19:10,  1.28s/it]"
          ]
        },
        {
          "output_type": "stream",
          "name": "stdout",
          "text": [
            "epoch: 1101 | training loss: 0.00013751981168752536 | validation loss: 0.00013662227866007015\n"
          ]
        },
        {
          "output_type": "stream",
          "name": "stderr",
          "text": [
            " 60%|██████    | 1201/2000 [24:09<18:05,  1.36s/it]"
          ]
        },
        {
          "output_type": "stream",
          "name": "stdout",
          "text": [
            "epoch: 1201 | training loss: 0.00013555583427660167 | validation loss: 0.00012694373314540522\n"
          ]
        },
        {
          "output_type": "stream",
          "name": "stderr",
          "text": [
            " 65%|██████▌   | 1301/2000 [26:39<18:49,  1.62s/it]"
          ]
        },
        {
          "output_type": "stream",
          "name": "stdout",
          "text": [
            "epoch: 1301 | training loss: 0.0001337627472821623 | validation loss: 0.00012048342250636779\n"
          ]
        },
        {
          "output_type": "stream",
          "name": "stderr",
          "text": [
            " 70%|███████   | 1401/2000 [28:47<12:47,  1.28s/it]"
          ]
        },
        {
          "output_type": "stream",
          "name": "stdout",
          "text": [
            "epoch: 1401 | training loss: 0.00013218552339822054 | validation loss: 0.00012287224065706445\n"
          ]
        },
        {
          "output_type": "stream",
          "name": "stderr",
          "text": [
            " 75%|███████▌  | 1501/2000 [30:56<10:26,  1.26s/it]"
          ]
        },
        {
          "output_type": "stream",
          "name": "stdout",
          "text": [
            "epoch: 1501 | training loss: 0.0001310181905864738 | validation loss: 0.00013751130245509557\n"
          ]
        },
        {
          "output_type": "stream",
          "name": "stderr",
          "text": [
            " 80%|████████  | 1601/2000 [33:05<08:33,  1.29s/it]"
          ]
        },
        {
          "output_type": "stream",
          "name": "stdout",
          "text": [
            "epoch: 1601 | training loss: 0.0001302813798247371 | validation loss: 0.00012213906666147523\n"
          ]
        },
        {
          "output_type": "stream",
          "name": "stderr",
          "text": [
            " 85%|████████▌ | 1701/2000 [35:16<06:18,  1.26s/it]"
          ]
        },
        {
          "output_type": "stream",
          "name": "stdout",
          "text": [
            "epoch: 1701 | training loss: 0.0001291983644478023 | validation loss: 0.00011826041372842155\n"
          ]
        },
        {
          "output_type": "stream",
          "name": "stderr",
          "text": [
            " 90%|█████████ | 1801/2000 [37:35<04:06,  1.24s/it]"
          ]
        },
        {
          "output_type": "stream",
          "name": "stdout",
          "text": [
            "epoch: 1801 | training loss: 0.00012847312609665096 | validation loss: 0.00011948645017885913\n"
          ]
        },
        {
          "output_type": "stream",
          "name": "stderr",
          "text": [
            " 95%|█████████▌| 1901/2000 [39:49<02:22,  1.44s/it]"
          ]
        },
        {
          "output_type": "stream",
          "name": "stdout",
          "text": [
            "epoch: 1901 | training loss: 0.0001278554627788253 | validation loss: 0.00012771769130874114\n"
          ]
        },
        {
          "output_type": "stream",
          "name": "stderr",
          "text": [
            "100%|██████████| 2000/2000 [42:02<00:00,  1.26s/it]\n"
          ]
        }
      ]
    },
    {
      "cell_type": "code",
      "source": [
        "plt.plot(train_loss_list)"
      ],
      "metadata": {
        "id": "IdzkEiYjquXC",
        "colab": {
          "base_uri": "https://localhost:8080/",
          "height": 447
        },
        "outputId": "9ff9f09b-eaf0-4d19-bb3c-e42e880e1567"
      },
      "execution_count": null,
      "outputs": [
        {
          "output_type": "execute_result",
          "data": {
            "text/plain": [
              "[<matplotlib.lines.Line2D at 0x7f509f6da470>]"
            ]
          },
          "metadata": {},
          "execution_count": 29
        },
        {
          "output_type": "display_data",
          "data": {
            "text/plain": [
              "<Figure size 640x480 with 1 Axes>"
            ],
            "image/png": "[encoded data removed]"
          },
          "metadata": {}
        }
      ]
    },
    {
      "cell_type": "code",
      "source": [
        "plt.plot(validation_loss_list)"
      ],
      "metadata": {
        "id": "TVjwihehOwh6",
        "colab": {
          "base_uri": "https://localhost:8080/",
          "height": 447
        },
        "outputId": "0a26fde2-434f-4bc8-e9b7-1b6db957946e"
      },
      "execution_count": null,
      "outputs": [
        {
          "output_type": "execute_result",
          "data": {
            "text/plain": [
              "[<matplotlib.lines.Line2D at 0x7f509d43d7b0>]"
            ]
          },
          "metadata": {},
          "execution_count": 30
        },
        {
          "output_type": "display_data",
          "data": {
            "text/plain": [
              "<Figure size 640x480 with 1 Axes>"
            ],
            "image/png": "[encoded data removed]"
          },
          "metadata": {}
        }
      ]
    },
    {
      "cell_type": "code",
      "source": [],
      "metadata": {
        "id": "7M_YUlN8jaXZ"
      },
      "execution_count": null,
      "outputs": []
    }
  ]
}